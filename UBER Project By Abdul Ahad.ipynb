{
 "cells": [
  {
   "cell_type": "markdown",
   "id": "00b99a34-8470-45dd-b39e-5010e324f39d",
   "metadata": {},
   "source": [
    "# import python libraries"
   ]
  },
  {
   "cell_type": "code",
   "execution_count": 119,
   "id": "b1e0a0fc-d2b4-4384-8b83-1f98a1d6a73e",
   "metadata": {},
   "outputs": [],
   "source": [
    "import numpy as np \n",
    "import pandas as pd \n",
    "import matplotlib.pyplot as plt # visualizing data\n",
    "%matplotlib inline\n",
    "import seaborn as sns\n",
    "from datetime import datetime\n",
    "from math import radians, sin, cos, sqrt, atan2\n",
    "from sklearn.model_selection import train_test_split\n",
    "from sklearn.preprocessing import StandardScaler, MinMaxScaler"
   ]
  },
  {
   "cell_type": "markdown",
   "id": "c24a1fc1-99f1-4dc0-86e9-2ea5cfb59286",
   "metadata": {},
   "source": [
    "# import csv file"
   ]
  },
  {
   "cell_type": "code",
   "execution_count": 121,
   "id": "c2e94485-8623-4900-97df-a4ab79507ce0",
   "metadata": {},
   "outputs": [],
   "source": [
    "df=pd.read_csv(\"uber.csv\")"
   ]
  },
  {
   "cell_type": "code",
   "execution_count": 123,
   "id": "2a0cf634-927d-49e7-bd6d-a2008baf1fce",
   "metadata": {},
   "outputs": [
    {
     "data": {
      "text/html": [
       "<div>\n",
       "<style scoped>\n",
       "    .dataframe tbody tr th:only-of-type {\n",
       "        vertical-align: middle;\n",
       "    }\n",
       "\n",
       "    .dataframe tbody tr th {\n",
       "        vertical-align: top;\n",
       "    }\n",
       "\n",
       "    .dataframe thead th {\n",
       "        text-align: right;\n",
       "    }\n",
       "</style>\n",
       "<table border=\"1\" class=\"dataframe\">\n",
       "  <thead>\n",
       "    <tr style=\"text-align: right;\">\n",
       "      <th></th>\n",
       "      <th>Unnamed: 0</th>\n",
       "      <th>key</th>\n",
       "      <th>fare_amount</th>\n",
       "      <th>pickup_datetime</th>\n",
       "      <th>pickup_longitude</th>\n",
       "      <th>pickup_latitude</th>\n",
       "      <th>dropoff_longitude</th>\n",
       "      <th>dropoff_latitude</th>\n",
       "      <th>passenger_count</th>\n",
       "    </tr>\n",
       "  </thead>\n",
       "  <tbody>\n",
       "    <tr>\n",
       "      <th>0</th>\n",
       "      <td>24238194</td>\n",
       "      <td>52:06.0</td>\n",
       "      <td>7.5</td>\n",
       "      <td>2015-05-07 19:52:06 UTC</td>\n",
       "      <td>-73.999817</td>\n",
       "      <td>40.738354</td>\n",
       "      <td>-73.999512</td>\n",
       "      <td>40.723217</td>\n",
       "      <td>1</td>\n",
       "    </tr>\n",
       "    <tr>\n",
       "      <th>1</th>\n",
       "      <td>27835199</td>\n",
       "      <td>04:56.0</td>\n",
       "      <td>7.7</td>\n",
       "      <td>2009-07-17 20:04:56 UTC</td>\n",
       "      <td>-73.994355</td>\n",
       "      <td>40.728225</td>\n",
       "      <td>-73.994710</td>\n",
       "      <td>40.750325</td>\n",
       "      <td>1</td>\n",
       "    </tr>\n",
       "    <tr>\n",
       "      <th>2</th>\n",
       "      <td>44984355</td>\n",
       "      <td>45:00.0</td>\n",
       "      <td>12.9</td>\n",
       "      <td>2009-08-24 21:45:00 UTC</td>\n",
       "      <td>-74.005043</td>\n",
       "      <td>40.740770</td>\n",
       "      <td>-73.962565</td>\n",
       "      <td>40.772647</td>\n",
       "      <td>1</td>\n",
       "    </tr>\n",
       "    <tr>\n",
       "      <th>3</th>\n",
       "      <td>25894730</td>\n",
       "      <td>22:21.0</td>\n",
       "      <td>5.3</td>\n",
       "      <td>2009-06-26 08:22:21 UTC</td>\n",
       "      <td>-73.976124</td>\n",
       "      <td>40.790844</td>\n",
       "      <td>-73.965316</td>\n",
       "      <td>40.803349</td>\n",
       "      <td>3</td>\n",
       "    </tr>\n",
       "    <tr>\n",
       "      <th>4</th>\n",
       "      <td>17610152</td>\n",
       "      <td>47:00.0</td>\n",
       "      <td>16.0</td>\n",
       "      <td>2014-08-28 17:47:00 UTC</td>\n",
       "      <td>-73.925023</td>\n",
       "      <td>40.744085</td>\n",
       "      <td>-73.973082</td>\n",
       "      <td>40.761247</td>\n",
       "      <td>5</td>\n",
       "    </tr>\n",
       "    <tr>\n",
       "      <th>...</th>\n",
       "      <td>...</td>\n",
       "      <td>...</td>\n",
       "      <td>...</td>\n",
       "      <td>...</td>\n",
       "      <td>...</td>\n",
       "      <td>...</td>\n",
       "      <td>...</td>\n",
       "      <td>...</td>\n",
       "      <td>...</td>\n",
       "    </tr>\n",
       "    <tr>\n",
       "      <th>199995</th>\n",
       "      <td>42598914</td>\n",
       "      <td>49:00.0</td>\n",
       "      <td>3.0</td>\n",
       "      <td>2012-10-28 10:49:00 UTC</td>\n",
       "      <td>-73.987042</td>\n",
       "      <td>40.739367</td>\n",
       "      <td>-73.986525</td>\n",
       "      <td>40.740297</td>\n",
       "      <td>1</td>\n",
       "    </tr>\n",
       "    <tr>\n",
       "      <th>199996</th>\n",
       "      <td>16382965</td>\n",
       "      <td>09:00.0</td>\n",
       "      <td>7.5</td>\n",
       "      <td>2014-03-14 01:09:00 UTC</td>\n",
       "      <td>-73.984722</td>\n",
       "      <td>40.736837</td>\n",
       "      <td>-74.006672</td>\n",
       "      <td>40.739620</td>\n",
       "      <td>1</td>\n",
       "    </tr>\n",
       "    <tr>\n",
       "      <th>199997</th>\n",
       "      <td>27804658</td>\n",
       "      <td>42:00.0</td>\n",
       "      <td>30.9</td>\n",
       "      <td>2009-06-29 00:42:00 UTC</td>\n",
       "      <td>-73.986017</td>\n",
       "      <td>40.756487</td>\n",
       "      <td>-73.858957</td>\n",
       "      <td>40.692588</td>\n",
       "      <td>2</td>\n",
       "    </tr>\n",
       "    <tr>\n",
       "      <th>199998</th>\n",
       "      <td>20259894</td>\n",
       "      <td>56:25.0</td>\n",
       "      <td>14.5</td>\n",
       "      <td>2015-05-20 14:56:25 UTC</td>\n",
       "      <td>-73.997124</td>\n",
       "      <td>40.725452</td>\n",
       "      <td>-73.983215</td>\n",
       "      <td>40.695416</td>\n",
       "      <td>1</td>\n",
       "    </tr>\n",
       "    <tr>\n",
       "      <th>199999</th>\n",
       "      <td>11951496</td>\n",
       "      <td>08:00.0</td>\n",
       "      <td>14.1</td>\n",
       "      <td>2010-05-15 04:08:00 UTC</td>\n",
       "      <td>-73.984395</td>\n",
       "      <td>40.720077</td>\n",
       "      <td>-73.985508</td>\n",
       "      <td>40.768793</td>\n",
       "      <td>1</td>\n",
       "    </tr>\n",
       "  </tbody>\n",
       "</table>\n",
       "<p>200000 rows × 9 columns</p>\n",
       "</div>"
      ],
      "text/plain": [
       "        Unnamed: 0      key  fare_amount          pickup_datetime  \\\n",
       "0         24238194  52:06.0          7.5  2015-05-07 19:52:06 UTC   \n",
       "1         27835199  04:56.0          7.7  2009-07-17 20:04:56 UTC   \n",
       "2         44984355  45:00.0         12.9  2009-08-24 21:45:00 UTC   \n",
       "3         25894730  22:21.0          5.3  2009-06-26 08:22:21 UTC   \n",
       "4         17610152  47:00.0         16.0  2014-08-28 17:47:00 UTC   \n",
       "...            ...      ...          ...                      ...   \n",
       "199995    42598914  49:00.0          3.0  2012-10-28 10:49:00 UTC   \n",
       "199996    16382965  09:00.0          7.5  2014-03-14 01:09:00 UTC   \n",
       "199997    27804658  42:00.0         30.9  2009-06-29 00:42:00 UTC   \n",
       "199998    20259894  56:25.0         14.5  2015-05-20 14:56:25 UTC   \n",
       "199999    11951496  08:00.0         14.1  2010-05-15 04:08:00 UTC   \n",
       "\n",
       "        pickup_longitude  pickup_latitude  dropoff_longitude  \\\n",
       "0             -73.999817        40.738354         -73.999512   \n",
       "1             -73.994355        40.728225         -73.994710   \n",
       "2             -74.005043        40.740770         -73.962565   \n",
       "3             -73.976124        40.790844         -73.965316   \n",
       "4             -73.925023        40.744085         -73.973082   \n",
       "...                  ...              ...                ...   \n",
       "199995        -73.987042        40.739367         -73.986525   \n",
       "199996        -73.984722        40.736837         -74.006672   \n",
       "199997        -73.986017        40.756487         -73.858957   \n",
       "199998        -73.997124        40.725452         -73.983215   \n",
       "199999        -73.984395        40.720077         -73.985508   \n",
       "\n",
       "        dropoff_latitude  passenger_count  \n",
       "0              40.723217                1  \n",
       "1              40.750325                1  \n",
       "2              40.772647                1  \n",
       "3              40.803349                3  \n",
       "4              40.761247                5  \n",
       "...                  ...              ...  \n",
       "199995         40.740297                1  \n",
       "199996         40.739620                1  \n",
       "199997         40.692588                2  \n",
       "199998         40.695416                1  \n",
       "199999         40.768793                1  \n",
       "\n",
       "[200000 rows x 9 columns]"
      ]
     },
     "execution_count": 123,
     "metadata": {},
     "output_type": "execute_result"
    }
   ],
   "source": [
    "df"
   ]
  },
  {
   "cell_type": "code",
   "execution_count": 125,
   "id": "cfad3a26-ccfd-478e-9ca7-7e2ab93ec882",
   "metadata": {},
   "outputs": [
    {
     "data": {
      "text/plain": [
       "(200000, 9)"
      ]
     },
     "execution_count": 125,
     "metadata": {},
     "output_type": "execute_result"
    }
   ],
   "source": [
    "df.shape"
   ]
  },
  {
   "cell_type": "code",
   "execution_count": 127,
   "id": "9d23d6ff-3ba1-4bb1-b1e3-3dee4cc91923",
   "metadata": {},
   "outputs": [
    {
     "data": {
      "text/html": [
       "<div>\n",
       "<style scoped>\n",
       "    .dataframe tbody tr th:only-of-type {\n",
       "        vertical-align: middle;\n",
       "    }\n",
       "\n",
       "    .dataframe tbody tr th {\n",
       "        vertical-align: top;\n",
       "    }\n",
       "\n",
       "    .dataframe thead th {\n",
       "        text-align: right;\n",
       "    }\n",
       "</style>\n",
       "<table border=\"1\" class=\"dataframe\">\n",
       "  <thead>\n",
       "    <tr style=\"text-align: right;\">\n",
       "      <th></th>\n",
       "      <th>Unnamed: 0</th>\n",
       "      <th>key</th>\n",
       "      <th>fare_amount</th>\n",
       "      <th>pickup_datetime</th>\n",
       "      <th>pickup_longitude</th>\n",
       "      <th>pickup_latitude</th>\n",
       "      <th>dropoff_longitude</th>\n",
       "      <th>dropoff_latitude</th>\n",
       "      <th>passenger_count</th>\n",
       "    </tr>\n",
       "  </thead>\n",
       "  <tbody>\n",
       "    <tr>\n",
       "      <th>0</th>\n",
       "      <td>24238194</td>\n",
       "      <td>52:06.0</td>\n",
       "      <td>7.5</td>\n",
       "      <td>2015-05-07 19:52:06 UTC</td>\n",
       "      <td>-73.999817</td>\n",
       "      <td>40.738354</td>\n",
       "      <td>-73.999512</td>\n",
       "      <td>40.723217</td>\n",
       "      <td>1</td>\n",
       "    </tr>\n",
       "    <tr>\n",
       "      <th>1</th>\n",
       "      <td>27835199</td>\n",
       "      <td>04:56.0</td>\n",
       "      <td>7.7</td>\n",
       "      <td>2009-07-17 20:04:56 UTC</td>\n",
       "      <td>-73.994355</td>\n",
       "      <td>40.728225</td>\n",
       "      <td>-73.994710</td>\n",
       "      <td>40.750325</td>\n",
       "      <td>1</td>\n",
       "    </tr>\n",
       "    <tr>\n",
       "      <th>2</th>\n",
       "      <td>44984355</td>\n",
       "      <td>45:00.0</td>\n",
       "      <td>12.9</td>\n",
       "      <td>2009-08-24 21:45:00 UTC</td>\n",
       "      <td>-74.005043</td>\n",
       "      <td>40.740770</td>\n",
       "      <td>-73.962565</td>\n",
       "      <td>40.772647</td>\n",
       "      <td>1</td>\n",
       "    </tr>\n",
       "    <tr>\n",
       "      <th>3</th>\n",
       "      <td>25894730</td>\n",
       "      <td>22:21.0</td>\n",
       "      <td>5.3</td>\n",
       "      <td>2009-06-26 08:22:21 UTC</td>\n",
       "      <td>-73.976124</td>\n",
       "      <td>40.790844</td>\n",
       "      <td>-73.965316</td>\n",
       "      <td>40.803349</td>\n",
       "      <td>3</td>\n",
       "    </tr>\n",
       "    <tr>\n",
       "      <th>4</th>\n",
       "      <td>17610152</td>\n",
       "      <td>47:00.0</td>\n",
       "      <td>16.0</td>\n",
       "      <td>2014-08-28 17:47:00 UTC</td>\n",
       "      <td>-73.925023</td>\n",
       "      <td>40.744085</td>\n",
       "      <td>-73.973082</td>\n",
       "      <td>40.761247</td>\n",
       "      <td>5</td>\n",
       "    </tr>\n",
       "  </tbody>\n",
       "</table>\n",
       "</div>"
      ],
      "text/plain": [
       "   Unnamed: 0      key  fare_amount          pickup_datetime  \\\n",
       "0    24238194  52:06.0          7.5  2015-05-07 19:52:06 UTC   \n",
       "1    27835199  04:56.0          7.7  2009-07-17 20:04:56 UTC   \n",
       "2    44984355  45:00.0         12.9  2009-08-24 21:45:00 UTC   \n",
       "3    25894730  22:21.0          5.3  2009-06-26 08:22:21 UTC   \n",
       "4    17610152  47:00.0         16.0  2014-08-28 17:47:00 UTC   \n",
       "\n",
       "   pickup_longitude  pickup_latitude  dropoff_longitude  dropoff_latitude  \\\n",
       "0        -73.999817        40.738354         -73.999512         40.723217   \n",
       "1        -73.994355        40.728225         -73.994710         40.750325   \n",
       "2        -74.005043        40.740770         -73.962565         40.772647   \n",
       "3        -73.976124        40.790844         -73.965316         40.803349   \n",
       "4        -73.925023        40.744085         -73.973082         40.761247   \n",
       "\n",
       "   passenger_count  \n",
       "0                1  \n",
       "1                1  \n",
       "2                1  \n",
       "3                3  \n",
       "4                5  "
      ]
     },
     "execution_count": 127,
     "metadata": {},
     "output_type": "execute_result"
    }
   ],
   "source": [
    "df.head()"
   ]
  },
  {
   "cell_type": "code",
   "execution_count": 129,
   "id": "7e9f9ea8-88dd-4ceb-9944-073f30c7e1d9",
   "metadata": {},
   "outputs": [
    {
     "name": "stdout",
     "output_type": "stream",
     "text": [
      "<class 'pandas.core.frame.DataFrame'>\n",
      "RangeIndex: 200000 entries, 0 to 199999\n",
      "Data columns (total 9 columns):\n",
      " #   Column             Non-Null Count   Dtype  \n",
      "---  ------             --------------   -----  \n",
      " 0   Unnamed: 0         200000 non-null  int64  \n",
      " 1   key                200000 non-null  object \n",
      " 2   fare_amount        200000 non-null  float64\n",
      " 3   pickup_datetime    200000 non-null  object \n",
      " 4   pickup_longitude   200000 non-null  float64\n",
      " 5   pickup_latitude    200000 non-null  float64\n",
      " 6   dropoff_longitude  199999 non-null  float64\n",
      " 7   dropoff_latitude   199999 non-null  float64\n",
      " 8   passenger_count    200000 non-null  int64  \n",
      "dtypes: float64(5), int64(2), object(2)\n",
      "memory usage: 13.7+ MB\n"
     ]
    }
   ],
   "source": [
    "df.info()"
   ]
  },
  {
   "cell_type": "markdown",
   "id": "2a7f7b43-6d53-40b9-bad7-58cbae7f8561",
   "metadata": {},
   "source": [
    "# check for null values"
   ]
  },
  {
   "cell_type": "code",
   "execution_count": 131,
   "id": "6fe31f90-8ca5-4845-9562-caf8ac541adb",
   "metadata": {},
   "outputs": [
    {
     "data": {
      "text/plain": [
       "Unnamed: 0           0\n",
       "key                  0\n",
       "fare_amount          0\n",
       "pickup_datetime      0\n",
       "pickup_longitude     0\n",
       "pickup_latitude      0\n",
       "dropoff_longitude    1\n",
       "dropoff_latitude     1\n",
       "passenger_count      0\n",
       "dtype: int64"
      ]
     },
     "execution_count": 131,
     "metadata": {},
     "output_type": "execute_result"
    }
   ],
   "source": [
    "pd.isnull(df).sum()"
   ]
  },
  {
   "cell_type": "code",
   "execution_count": 133,
   "id": "957fe590-efae-4e31-9d61-73c5608574d4",
   "metadata": {},
   "outputs": [],
   "source": [
    "# drop null values\n",
    "df.dropna(inplace=True)"
   ]
  },
  {
   "cell_type": "code",
   "execution_count": 135,
   "id": "c331170a-6216-47f4-b2e7-96e050f3b9b9",
   "metadata": {},
   "outputs": [],
   "source": [
    "# change data type\n",
    "df['dropoff_longitude'] = df['dropoff_longitude'].apply(lambda x: int(x) if pd.notnull(x) else 0)"
   ]
  },
  {
   "cell_type": "code",
   "execution_count": 137,
   "id": "28970a58-9607-494e-bc25-66d112c881f5",
   "metadata": {},
   "outputs": [],
   "source": [
    "# change data type\n",
    "df['dropoff_latitude'] = df['dropoff_latitude'].apply(lambda x: int(x) if pd.notnull(x) else 0)"
   ]
  },
  {
   "cell_type": "code",
   "execution_count": 139,
   "id": "481000e0-4729-40db-9f23-f1907bc70032",
   "metadata": {},
   "outputs": [
    {
     "data": {
      "text/plain": [
       "Unnamed: 0           0\n",
       "key                  0\n",
       "fare_amount          0\n",
       "pickup_datetime      0\n",
       "pickup_longitude     0\n",
       "pickup_latitude      0\n",
       "dropoff_longitude    0\n",
       "dropoff_latitude     0\n",
       "passenger_count      0\n",
       "dtype: int64"
      ]
     },
     "execution_count": 139,
     "metadata": {},
     "output_type": "execute_result"
    }
   ],
   "source": [
    "pd.isnull(df).sum()"
   ]
  },
  {
   "cell_type": "code",
   "execution_count": 96,
   "id": "c1f3e376-3aa9-4511-a017-715d13c7822d",
   "metadata": {},
   "outputs": [
    {
     "data": {
      "text/plain": [
       "Index(['Unnamed: 0', 'key', 'fare_amount', 'pickup_datetime',\n",
       "       'pickup_longitude', 'pickup_latitude', 'dropoff_longitude',\n",
       "       'dropoff_latitude', 'passenger_count'],\n",
       "      dtype='object')"
      ]
     },
     "execution_count": 96,
     "metadata": {},
     "output_type": "execute_result"
    }
   ],
   "source": [
    "df.columns"
   ]
  },
  {
   "cell_type": "code",
   "execution_count": 141,
   "id": "3d6d7106-555b-411d-91b3-5eb294e13597",
   "metadata": {},
   "outputs": [
    {
     "data": {
      "text/html": [
       "<div>\n",
       "<style scoped>\n",
       "    .dataframe tbody tr th:only-of-type {\n",
       "        vertical-align: middle;\n",
       "    }\n",
       "\n",
       "    .dataframe tbody tr th {\n",
       "        vertical-align: top;\n",
       "    }\n",
       "\n",
       "    .dataframe thead th {\n",
       "        text-align: right;\n",
       "    }\n",
       "</style>\n",
       "<table border=\"1\" class=\"dataframe\">\n",
       "  <thead>\n",
       "    <tr style=\"text-align: right;\">\n",
       "      <th></th>\n",
       "      <th>Unnamed: 0</th>\n",
       "      <th>fare_amount</th>\n",
       "      <th>pickup_longitude</th>\n",
       "      <th>pickup_latitude</th>\n",
       "      <th>dropoff_longitude</th>\n",
       "      <th>dropoff_latitude</th>\n",
       "      <th>passenger_count</th>\n",
       "    </tr>\n",
       "  </thead>\n",
       "  <tbody>\n",
       "    <tr>\n",
       "      <th>count</th>\n",
       "      <td>1.999990e+05</td>\n",
       "      <td>199999.000000</td>\n",
       "      <td>199999.000000</td>\n",
       "      <td>199999.000000</td>\n",
       "      <td>199999.000000</td>\n",
       "      <td>199999.000000</td>\n",
       "      <td>199999.000000</td>\n",
       "    </tr>\n",
       "    <tr>\n",
       "      <th>mean</th>\n",
       "      <td>2.771248e+07</td>\n",
       "      <td>11.359892</td>\n",
       "      <td>-72.527631</td>\n",
       "      <td>39.935881</td>\n",
       "      <td>-71.702324</td>\n",
       "      <td>39.188131</td>\n",
       "      <td>1.684543</td>\n",
       "    </tr>\n",
       "    <tr>\n",
       "      <th>std</th>\n",
       "      <td>1.601386e+07</td>\n",
       "      <td>9.901760</td>\n",
       "      <td>11.437815</td>\n",
       "      <td>7.720558</td>\n",
       "      <td>13.026506</td>\n",
       "      <td>6.697013</td>\n",
       "      <td>1.385995</td>\n",
       "    </tr>\n",
       "    <tr>\n",
       "      <th>min</th>\n",
       "      <td>1.000000e+00</td>\n",
       "      <td>-52.000000</td>\n",
       "      <td>-1340.648410</td>\n",
       "      <td>-74.015515</td>\n",
       "      <td>-3356.000000</td>\n",
       "      <td>-881.000000</td>\n",
       "      <td>0.000000</td>\n",
       "    </tr>\n",
       "    <tr>\n",
       "      <th>25%</th>\n",
       "      <td>1.382534e+07</td>\n",
       "      <td>6.000000</td>\n",
       "      <td>-73.992065</td>\n",
       "      <td>40.734796</td>\n",
       "      <td>-73.000000</td>\n",
       "      <td>40.000000</td>\n",
       "      <td>1.000000</td>\n",
       "    </tr>\n",
       "    <tr>\n",
       "      <th>50%</th>\n",
       "      <td>2.774524e+07</td>\n",
       "      <td>8.500000</td>\n",
       "      <td>-73.981823</td>\n",
       "      <td>40.752592</td>\n",
       "      <td>-73.000000</td>\n",
       "      <td>40.000000</td>\n",
       "      <td>1.000000</td>\n",
       "    </tr>\n",
       "    <tr>\n",
       "      <th>75%</th>\n",
       "      <td>4.155535e+07</td>\n",
       "      <td>12.500000</td>\n",
       "      <td>-73.967154</td>\n",
       "      <td>40.767158</td>\n",
       "      <td>-73.000000</td>\n",
       "      <td>40.000000</td>\n",
       "      <td>2.000000</td>\n",
       "    </tr>\n",
       "    <tr>\n",
       "      <th>max</th>\n",
       "      <td>5.542357e+07</td>\n",
       "      <td>499.000000</td>\n",
       "      <td>57.418457</td>\n",
       "      <td>1644.421482</td>\n",
       "      <td>1153.000000</td>\n",
       "      <td>872.000000</td>\n",
       "      <td>208.000000</td>\n",
       "    </tr>\n",
       "  </tbody>\n",
       "</table>\n",
       "</div>"
      ],
      "text/plain": [
       "         Unnamed: 0    fare_amount  pickup_longitude  pickup_latitude  \\\n",
       "count  1.999990e+05  199999.000000     199999.000000    199999.000000   \n",
       "mean   2.771248e+07      11.359892        -72.527631        39.935881   \n",
       "std    1.601386e+07       9.901760         11.437815         7.720558   \n",
       "min    1.000000e+00     -52.000000      -1340.648410       -74.015515   \n",
       "25%    1.382534e+07       6.000000        -73.992065        40.734796   \n",
       "50%    2.774524e+07       8.500000        -73.981823        40.752592   \n",
       "75%    4.155535e+07      12.500000        -73.967154        40.767158   \n",
       "max    5.542357e+07     499.000000         57.418457      1644.421482   \n",
       "\n",
       "       dropoff_longitude  dropoff_latitude  passenger_count  \n",
       "count      199999.000000     199999.000000    199999.000000  \n",
       "mean          -71.702324         39.188131         1.684543  \n",
       "std            13.026506          6.697013         1.385995  \n",
       "min         -3356.000000       -881.000000         0.000000  \n",
       "25%           -73.000000         40.000000         1.000000  \n",
       "50%           -73.000000         40.000000         1.000000  \n",
       "75%           -73.000000         40.000000         2.000000  \n",
       "max          1153.000000        872.000000       208.000000  "
      ]
     },
     "execution_count": 141,
     "metadata": {},
     "output_type": "execute_result"
    }
   ],
   "source": [
    "df.describe()"
   ]
  },
  {
   "cell_type": "markdown",
   "id": "b4b809d4-f328-4fe5-963b-420cac76b634",
   "metadata": {},
   "source": [
    "# Feature Engineering"
   ]
  },
  {
   "cell_type": "code",
   "execution_count": 145,
   "id": "8a66366a-7d00-443d-992d-7861722b6ec5",
   "metadata": {},
   "outputs": [],
   "source": [
    "# Convert pickup_datetime to datetime format\n",
    "df['pickup_datetime'] = pd.to_datetime(df['pickup_datetime'])\n"
   ]
  },
  {
   "cell_type": "code",
   "execution_count": 147,
   "id": "0797057a-f124-4a11-8edf-aca6effd20f8",
   "metadata": {},
   "outputs": [],
   "source": [
    "# 1. Time-Based Features\n",
    "# Extract hour of day\n",
    "df['hour'] = df['pickup_datetime'].dt.hour\n",
    "\n",
    "# Time of Day (morning, afternoon, evening, night)\n",
    "def get_time_of_day(hour):\n",
    "    if 5 <= hour < 12:\n",
    "        return 'morning'\n",
    "    elif 12 <= hour < 17:\n",
    "        return 'afternoon'\n",
    "    elif 17 <= hour < 22:\n",
    "        return 'evening'\n",
    "    else:\n",
    "        return 'night'\n",
    "\n",
    "df['time_of_day'] = df['hour'].apply(get_time_of_day)\n",
    "\n",
    "# Day of the week (0=Monday, 6=Sunday)\n",
    "df['day_of_week'] = df['pickup_datetime'].dt.dayofweek\n",
    "\n",
    "# Month\n",
    "df['month'] = df['pickup_datetime'].dt.month"
   ]
  },
  {
   "cell_type": "code",
   "execution_count": 149,
   "id": "ff239f57-af0e-403a-beaf-cf8c59b728b3",
   "metadata": {},
   "outputs": [],
   "source": [
    "# 2. Distance Features\n",
    "# Define function to calculate haversine distance\n",
    "def haversine(lat1, lon1, lat2, lon2):\n",
    "    R = 6371  # Radius of the earth in kilometers\n",
    "    lat1, lon1, lat2, lon2 = map(radians, [lat1, lon1, lat2, lon2])\n",
    "    dlat = lat2 - lat1 \n",
    "    dlon = lon2 - lon1 \n",
    "    a = sin(dlat/2)**2 + cos(lat1) * cos(lat2) * sin(dlon/2)**2\n",
    "    c = 2 * atan2(sqrt(a), sqrt(1-a)) \n",
    "    distance = R * c  # in kilometers\n",
    "    return distance\n",
    "\n",
    "df['distance_km'] = df.apply(lambda row: haversine(row['pickup_latitude'], row['pickup_longitude'], \n",
    "                                                   row['dropoff_latitude'], row['dropoff_longitude']), axis=1)\n",
    "\n",
    "# Distance Categories (short, medium, long)\n",
    "def categorize_distance(distance):\n",
    "    if distance < 2:\n",
    "        return 'short'\n",
    "    elif distance < 10:\n",
    "        return 'medium'\n",
    "    else:\n",
    "        return 'long'\n",
    "\n",
    "df['distance_category'] = df['distance_km'].apply(categorize_distance)\n"
   ]
  },
  {
   "cell_type": "code",
   "execution_count": 150,
   "id": "a1bef6bf-509f-4c12-945b-cf3e5597e73b",
   "metadata": {},
   "outputs": [],
   "source": [
    "# 3. Passenger-Related Features\n",
    "# Passenger Count Categories\n",
    "def categorize_passenger_count(count):\n",
    "    if count == 1:\n",
    "        return 'solo'\n",
    "    elif count <= 3:\n",
    "        return 'small group'\n",
    "    else:\n",
    "        return 'large group'\n",
    "\n",
    "df['passenger_category'] = df['passenger_count'].apply(categorize_passenger_count)"
   ]
  },
  {
   "cell_type": "code",
   "execution_count": 151,
   "id": "019bc5de-f91f-4322-9f62-e3c1ae9ca80c",
   "metadata": {},
   "outputs": [
    {
     "name": "stdout",
     "output_type": "stream",
     "text": [
      "            pickup_datetime  hour time_of_day  day_of_week  month  \\\n",
      "0 2015-05-07 19:52:06+00:00    19     evening            3      5   \n",
      "1 2009-07-17 20:04:56+00:00    20     evening            4      7   \n",
      "2 2009-08-24 21:45:00+00:00    21     evening            0      8   \n",
      "3 2009-06-26 08:22:21+00:00     8     morning            4      6   \n",
      "4 2014-08-28 17:47:00+00:00    17     evening            3      8   \n",
      "\n",
      "   distance_km distance_category  passenger_count passenger_category  \n",
      "0   117.960662              long                1               solo  \n",
      "1   116.850153              long                1               solo  \n",
      "2   118.464508              long                1               solo  \n",
      "3   120.688958              long                3        small group  \n",
      "4   113.956319              long                5        large group  \n"
     ]
    }
   ],
   "source": [
    "# Optional: Display the transformed DataFrame\n",
    "print(df[['pickup_datetime', 'hour', 'time_of_day', 'day_of_week', 'month', 'distance_km', \n",
    "          'distance_category', 'passenger_count', 'passenger_category']].head())"
   ]
  },
  {
   "cell_type": "markdown",
   "id": "2463baa3-c031-4d6b-a0c8-41536cde1310",
   "metadata": {},
   "source": [
    "# Split the Dataset"
   ]
  },
  {
   "cell_type": "code",
   "execution_count": 156,
   "id": "06c3b040-dab9-417f-88d9-d62ba9e5a3ec",
   "metadata": {},
   "outputs": [
    {
     "name": "stdout",
     "output_type": "stream",
     "text": [
      "Training set shape: (159999, 13)\n",
      "Testing set shape: (40000, 13)\n"
     ]
    }
   ],
   "source": [
    "# Define your feature set and target variable\n",
    "# Replace 'fare_amount' with your actual target variable\n",
    "X = df.drop(columns=['fare_amount', 'Unnamed: 0', 'key'])  # Features (drop target and non-features)\n",
    "y = df['fare_amount']  # Target variable\n",
    "\n",
    "# Split the dataset into training and testing sets\n",
    "# Adjust test_size to change the split ratio (e.g., 0.2 for 80-20 split)\n",
    "X_train, X_test, y_train, y_test = train_test_split(X, y, test_size=0.2, random_state=42)\n",
    "\n",
    "# Optional: Display the shapes of the resulting datasets\n",
    "print(f'Training set shape: {X_train.shape}')\n",
    "print(f'Testing set shape: {X_test.shape}')"
   ]
  },
  {
   "cell_type": "markdown",
   "id": "9e811cba-974c-41de-a1d9-5b38171b3c6d",
   "metadata": {},
   "source": [
    "# Data Scaling/Normalization"
   ]
  },
  {
   "cell_type": "code",
   "execution_count": 158,
   "id": "038300c5-a528-4015-b69b-7be133305a14",
   "metadata": {},
   "outputs": [
    {
     "name": "stdout",
     "output_type": "stream",
     "text": [
      "Standard Scaled Training Set:\n",
      "        distance_km      hour  day_of_week     month  passenger_count\n",
      "157134    -0.022559  1.307129    -1.052736  0.791527        -0.487423\n",
      "116607    -0.023890  1.153707    -1.566389 -0.371180        -0.487423\n",
      "78783     -0.020009 -0.533939     1.001878 -0.952533         0.936234\n",
      "103093    -0.025522  1.460551     1.001878  0.210173         0.224405\n",
      "162400    -0.028938  0.079750    -0.025429 -1.243210         2.359891\n",
      "\n",
      "Min-Max Scaled Training Set:\n",
      "        distance_km      hour  day_of_week     month  passenger_count\n",
      "157134     0.007245  0.956522     0.166667  0.727273         0.004808\n",
      "116607     0.007214  0.913043     0.000000  0.363636         0.004808\n",
      "78783      0.007303  0.434783     0.833333  0.181818         0.014423\n",
      "103093     0.007177  1.000000     0.833333  0.545455         0.009615\n",
      "162400     0.007099  0.608696     0.500000  0.090909         0.024038\n"
     ]
    }
   ],
   "source": [
    "# Selecting columns to scale (e.g., distance_km, hour, passenger_count)\n",
    "# Make sure to exclude categorical columns that don’t need scaling.\n",
    "numeric_features = ['distance_km', 'hour', 'day_of_week', 'month', 'passenger_count']  # Example of numeric features\n",
    "\n",
    "# Option 1: StandardScaler (standardization)\n",
    "scaler_standard = StandardScaler()\n",
    "X_train_scaled_standard = X_train.copy()\n",
    "X_test_scaled_standard = X_test.copy()\n",
    "X_train_scaled_standard[numeric_features] = scaler_standard.fit_transform(X_train[numeric_features])\n",
    "X_test_scaled_standard[numeric_features] = scaler_standard.transform(X_test[numeric_features])\n",
    "\n",
    "# Option 2: MinMaxScaler (normalization)\n",
    "scaler_minmax = MinMaxScaler()\n",
    "X_train_scaled_minmax = X_train.copy()\n",
    "X_test_scaled_minmax = X_test.copy()\n",
    "X_train_scaled_minmax[numeric_features] = scaler_minmax.fit_transform(X_train[numeric_features])\n",
    "X_test_scaled_minmax[numeric_features] = scaler_minmax.transform(X_test[numeric_features])\n",
    "\n",
    "# Display scaled training set\n",
    "print(\"Standard Scaled Training Set:\")\n",
    "print(X_train_scaled_standard[numeric_features].head())\n",
    "\n",
    "print(\"\\nMin-Max Scaled Training Set:\")\n",
    "print(X_train_scaled_minmax[numeric_features].head())"
   ]
  },
  {
   "cell_type": "markdown",
   "id": "a928a1ed-9818-420c-9332-52066d83a440",
   "metadata": {},
   "source": [
    "# Correlation Analysis"
   ]
  },
  {
   "cell_type": "code",
   "execution_count": 161,
   "id": "982d194c-55c2-4f52-9049-20f4fd4ca413",
   "metadata": {},
   "outputs": [
    {
     "name": "stdout",
     "output_type": "stream",
     "text": [
      "Correlation Matrix:\n",
      "                 fare_amount  distance_km      hour  day_of_week     month  \\\n",
      "fare_amount         1.000000     0.012526 -0.021463     0.007508  0.023813   \n",
      "distance_km         0.012526     1.000000 -0.000419    -0.005117 -0.000707   \n",
      "hour               -0.021463    -0.000419  1.000000    -0.086956 -0.003924   \n",
      "day_of_week         0.007508    -0.005117 -0.086956     1.000000 -0.008785   \n",
      "month               0.023813    -0.000707 -0.003924    -0.008785  1.000000   \n",
      "passenger_count     0.010158    -0.001545  0.013187     0.033189  0.009774   \n",
      "\n",
      "                 passenger_count  \n",
      "fare_amount             0.010158  \n",
      "distance_km            -0.001545  \n",
      "hour                    0.013187  \n",
      "day_of_week             0.033189  \n",
      "month                   0.009774  \n",
      "passenger_count         1.000000  \n"
     ]
    },
    {
     "data": {
      "image/png": "[encoded data removed]",
      "text/plain": [
       "<Figure size 1000x800 with 2 Axes>"
      ]
     },
     "metadata": {},
     "output_type": "display_data"
    },
    {
     "name": "stdout",
     "output_type": "stream",
     "text": [
      "\n",
      "Correlation of Features with Fare Amount:\n",
      "fare_amount        1.000000\n",
      "month              0.023813\n",
      "distance_km        0.012526\n",
      "passenger_count    0.010158\n",
      "day_of_week        0.007508\n",
      "hour              -0.021463\n",
      "Name: fare_amount, dtype: float64\n"
     ]
    }
   ],
   "source": [
    "# Select numeric columns for correlation analysis (excluding categorical and ID columns)\n",
    "numeric_features = ['fare_amount', 'distance_km', 'hour', 'day_of_week', 'month', 'passenger_count']\n",
    "\n",
    "# Compute the correlation matrix\n",
    "correlation_matrix = df[numeric_features].corr()\n",
    "\n",
    "# Display the correlation matrix\n",
    "print(\"Correlation Matrix:\")\n",
    "print(correlation_matrix)\n",
    "\n",
    "# Visualize the correlation matrix as a heatmap\n",
    "plt.figure(figsize=(10, 8))\n",
    "sns.heatmap(correlation_matrix, annot=True, cmap='coolwarm', vmin=-1, vmax=1)\n",
    "plt.title(\"Correlation Matrix Heatmap\")\n",
    "plt.show()\n",
    "\n",
    "# Extract correlations with the target variable (fare_amount)\n",
    "correlations_with_target = correlation_matrix['fare_amount'].sort_values(ascending=False)\n",
    "print(\"\\nCorrelation of Features with Fare Amount:\")\n",
    "print(correlations_with_target)"
   ]
  },
  {
   "cell_type": "code",
   "execution_count": null,
   "id": "c1f21124-0723-4995-98bf-e160d694e1d5",
   "metadata": {},
   "outputs": [],
   "source": []
  }
 ],
 "metadata": {
  "kernelspec": {
   "display_name": "Python 3 (ipykernel)",
   "language": "python",
   "name": "python3"
  },
  "language_info": {
   "codemirror_mode": {
    "name": "ipython",
    "version": 3
   },
   "file_extension": ".py",
   "mimetype": "text/x-python",
   "name": "python",
   "nbconvert_exporter": "python",
   "pygments_lexer": "ipython3",
   "version": "3.11.7"
  }
 },
 "nbformat": 4,
 "nbformat_minor": 5
}
